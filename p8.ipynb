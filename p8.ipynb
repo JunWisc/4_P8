{
 "cells": [
  {
   "cell_type": "code",
   "execution_count": 8,
   "id": "9500f156-546d-4b45-934f-8a5ea93146d4",
   "metadata": {},
   "outputs": [],
   "source": [
    "from google.cloud import bigquery\n",
    "bq = bigquery.Client()"
   ]
  },
  {
   "cell_type": "code",
   "execution_count": 9,
   "id": "2d016279-28b8-4ba2-b62e-3d230e65c65a",
   "metadata": {},
   "outputs": [
    {
     "name": "stdout",
     "output_type": "stream",
     "text": [
      "55025\n"
     ]
    }
   ],
   "source": [
    "#q1\n",
    "q = bq.query(\n",
    "\"\"\"\n",
    "SELECT geo_id \n",
    "FROM bigquery-public-data.geo_us_boundaries.counties\n",
    "WHERE county_name = 'Dane'\n",
    "\"\"\")\n",
    "result = q.to_dataframe()\n",
    "print(result['geo_id'][0])"
   ]
  },
  {
   "cell_type": "code",
   "execution_count": 10,
   "id": "91e899bf-6f47-480d-8df5-4ee6e15f2372",
   "metadata": {},
   "outputs": [
    {
     "data": {
      "text/plain": [
       "{'48': 254, '13': 159, '51': 133, '21': 120, '29': 115}"
      ]
     },
     "execution_count": 10,
     "metadata": {},
     "output_type": "execute_result"
    }
   ],
   "source": [
    "#q2\n",
    "q = bq.query(\n",
    "\"\"\"\n",
    "SELECT state_fips_code, COUNT(*) as county_count\n",
    "FROM bigquery-public-data.geo_us_boundaries.counties\n",
    "GROUP BY state_fips_code\n",
    "ORDER BY county_count DESC\n",
    "LIMIT 5\n",
    "\"\"\")\n",
    "result = q.to_dataframe()\n",
    "result.set_index('state_fips_code')['county_count'].to_dict()"
   ]
  },
  {
   "cell_type": "code",
   "execution_count": 11,
   "id": "46642044-bb88-405e-8b2b-51951ffedf25",
   "metadata": {},
   "outputs": [
    {
     "name": "stdout",
     "output_type": "stream",
     "text": [
      "{'q1': 4.76837158203125e-05, 'q2': 4.76837158203125e-05}\n"
     ]
    }
   ],
   "source": [
    "#q3\n",
    "def calculate_cost(query, job_config):\n",
    "    query_job = bq.query(query, job_config=job_config)\n",
    "    bytes_billed = query_job.total_bytes_billed\n",
    "    cost = (bytes_billed / (1024 ** 4)) * 5  # 비용 계산 (단위: 달러)\n",
    "    return cost\n",
    "\n",
    "# setting for not using cache\n",
    "job_config = bigquery.QueryJobConfig(use_query_cache=False)\n",
    "\n",
    "# first query\n",
    "q1 = \"\"\"\n",
    "SELECT geo_id \n",
    "FROM bigquery-public-data.geo_us_boundaries.counties\n",
    "WHERE county_name = 'Dane'\n",
    "\"\"\"\n",
    "cost_q1 = calculate_cost(q1, job_config)\n",
    "\n",
    "# second query\n",
    "q2 = \"\"\"\n",
    "SELECT state_fips_code, COUNT(*) as county_count\n",
    "FROM bigquery-public-data.geo_us_boundaries.counties\n",
    "GROUP BY state_fips_code\n",
    "ORDER BY county_count DESC\n",
    "LIMIT 5\n",
    "\"\"\"\n",
    "cost_q2 = calculate_cost(q2, job_config)\n",
    "\n",
    "costs = {'q1': cost_q1, 'q2': cost_q2}\n",
    "print(costs)"
   ]
  },
  {
   "cell_type": "code",
   "execution_count": 14,
   "id": "261dce19-6a6d-4876-b1ae-a5ef9c186e2c",
   "metadata": {},
   "outputs": [
    {
     "data": {
      "text/plain": [
       "Dataset(DatasetReference('decent-terra-398415', 'p8'))"
      ]
     },
     "execution_count": 14,
     "metadata": {},
     "output_type": "execute_result"
    }
   ],
   "source": [
    "ds = bigquery.Dataset(\"decent-terra-398415.p8\")\n",
    "ds"
   ]
  },
  {
   "cell_type": "code",
   "execution_count": 16,
   "id": "9d710dbc-b68c-49d8-ae36-6bafa32dea8b",
   "metadata": {},
   "outputs": [
    {
     "data": {
      "text/plain": [
       "Dataset(DatasetReference('decent-terra-398415', 'p8'))"
      ]
     },
     "execution_count": 16,
     "metadata": {},
     "output_type": "execute_result"
    }
   ],
   "source": [
    "bq.create_dataset(ds, exists_ok=True)"
   ]
  },
  {
   "cell_type": "code",
   "execution_count": 18,
   "id": "404d80a6-0d7c-4cfa-a235-3704c6f1b000",
   "metadata": {},
   "outputs": [
    {
     "data": {
      "text/plain": [
       "LoadJob<project=decent-terra-398415, location=US, id=68b6e999-a075-475e-8259-1f6cb55e757b>"
      ]
     },
     "execution_count": 18,
     "metadata": {},
     "output_type": "execute_result"
    }
   ],
   "source": [
    "uri = \"gs://dec1213/hdma-wi-2021.parquet\"\n",
    "\n",
    "table_id = \"p8.hdma\"\n",
    "\n",
    "job_config = bigquery.LoadJobConfig(source_format=bigquery.SourceFormat.PARQUET)\n",
    "load_job = bq.load_table_from_uri(uri, table_id, job_config=job_config)\n",
    "\n",
    "load_job.result()"
   ]
  },
  {
   "cell_type": "code",
   "execution_count": 22,
   "id": "4eccdcc5-b62b-498e-98bf-2714bc4270e5",
   "metadata": {},
   "outputs": [
    {
     "name": "stdout",
     "output_type": "stream",
     "text": [
      "['p8']\n"
     ]
    }
   ],
   "source": [
    "#q4\n",
    "datasets = [ds.dataset_id for ds in bq.list_datasets(\"decent-terra-398415\")]\n",
    "print(datasets)"
   ]
  },
  {
   "cell_type": "code",
   "execution_count": 24,
   "id": "1768dd81-5105-4283-b92b-32bc8bcddfcb",
   "metadata": {},
   "outputs": [
    {
     "name": "stdout",
     "output_type": "stream",
     "text": [
      "{'Milwaukee': 46570, 'Dane': 38557, 'Waukesha': 34159, 'Brown': 15615, 'Racine': 13007, 'Outagamie': 11523, 'Kenosha': 10744, 'Washington': 10726, 'Rock': 9834, 'Winnebago': 9310}\n"
     ]
    }
   ],
   "source": [
    "#q5\n",
    "query = \"\"\"\n",
    "SELECT c.county_name, COUNT(*) as loan_count\n",
    "FROM `p8.hdma` as h\n",
    "JOIN `bigquery-public-data.geo_us_boundaries.counties` as c\n",
    "ON h.county_code = c.geo_id\n",
    "GROUP BY c.county_name\n",
    "ORDER BY loan_count DESC\n",
    "LIMIT 10\n",
    "\"\"\"\n",
    "\n",
    "query_job = bq.query(query)\n",
    "\n",
    "# convert the result to dictionary\n",
    "result = query_job.to_dataframe()\n",
    "loan_counts = result.set_index('county_name')['loan_count'].to_dict()\n",
    "\n",
    "print(loan_counts)\n"
   ]
  },
  {
   "cell_type": "code",
   "execution_count": null,
   "id": "95bda388-2205-46cb-a644-d9cd537a8db0",
   "metadata": {},
   "outputs": [],
   "source": []
  }
 ],
 "metadata": {
  "kernelspec": {
   "display_name": "Python 3 (ipykernel)",
   "language": "python",
   "name": "python3"
  },
  "language_info": {
   "codemirror_mode": {
    "name": "ipython",
    "version": 3
   },
   "file_extension": ".py",
   "mimetype": "text/x-python",
   "name": "python",
   "nbconvert_exporter": "python",
   "pygments_lexer": "ipython3",
   "version": "3.10.12"
  }
 },
 "nbformat": 4,
 "nbformat_minor": 5
}
