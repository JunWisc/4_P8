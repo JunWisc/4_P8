{
 "cells": [
  {
   "cell_type": "code",
   "execution_count": 1,
   "id": "9500f156-546d-4b45-934f-8a5ea93146d4",
   "metadata": {},
   "outputs": [],
   "source": [
    "from google.cloud import bigquery\n",
    "bq = bigquery.Client()"
   ]
  },
  {
   "cell_type": "code",
   "execution_count": 2,
   "id": "2d016279-28b8-4ba2-b62e-3d230e65c65a",
   "metadata": {},
   "outputs": [
    {
     "data": {
      "text/plain": [
       "'55025'"
      ]
     },
     "execution_count": 2,
     "metadata": {},
     "output_type": "execute_result"
    }
   ],
   "source": [
    "#q1\n",
    "q = bq.query(\n",
    "\"\"\"\n",
    "SELECT geo_id \n",
    "FROM bigquery-public-data.geo_us_boundaries.counties\n",
    "WHERE county_name = 'Dane'\n",
    "\"\"\")\n",
    "result = q.to_dataframe()\n",
    "result['geo_id'][0]"
   ]
  },
  {
   "cell_type": "code",
   "execution_count": 3,
   "id": "91e899bf-6f47-480d-8df5-4ee6e15f2372",
   "metadata": {},
   "outputs": [
    {
     "data": {
      "text/plain": [
       "{'48': 254, '13': 159, '51': 133, '21': 120, '29': 115}"
      ]
     },
     "execution_count": 3,
     "metadata": {},
     "output_type": "execute_result"
    }
   ],
   "source": [
    "#q2\n",
    "q = bq.query(\n",
    "\"\"\"\n",
    "SELECT state_fips_code, COUNT(*) as county_count\n",
    "FROM bigquery-public-data.geo_us_boundaries.counties\n",
    "GROUP BY state_fips_code\n",
    "ORDER BY county_count DESC\n",
    "LIMIT 5\n",
    "\"\"\")\n",
    "result = q.to_dataframe()\n",
    "result.set_index('state_fips_code')['county_count'].to_dict()"
   ]
  },
  {
   "cell_type": "code",
   "execution_count": 4,
   "id": "46642044-bb88-405e-8b2b-51951ffedf25",
   "metadata": {},
   "outputs": [
    {
     "data": {
      "text/plain": [
       "{'q1': 5.9604644775390625e-05, 'q2': 5.9604644775390625e-05}"
      ]
     },
     "execution_count": 4,
     "metadata": {},
     "output_type": "execute_result"
    }
   ],
   "source": [
    "#q3\n",
    "def calculate_cost(query, job_config):\n",
    "    query_job = bq.query(query, job_config=job_config)\n",
    "    bytes_billed = query_job.total_bytes_billed\n",
    "    cost = (bytes_billed / (2 ** 40)) * 6.25  # Update this line\n",
    "    return cost\n",
    "\n",
    "# setting for not using cache\n",
    "job_config = bigquery.QueryJobConfig(use_query_cache=False)\n",
    "\n",
    "# first query\n",
    "q1 = \"\"\"\n",
    "SELECT geo_id \n",
    "FROM bigquery-public-data.geo_us_boundaries.counties\n",
    "WHERE county_name = 'Dane'\n",
    "\"\"\"\n",
    "cost_q1 = calculate_cost(q1, job_config)\n",
    "\n",
    "# second query\n",
    "q2 = \"\"\"\n",
    "SELECT state_fips_code, COUNT(*) as county_count\n",
    "FROM bigquery-public-data.geo_us_boundaries.counties\n",
    "GROUP BY state_fips_code\n",
    "ORDER BY county_count DESC\n",
    "LIMIT 5\n",
    "\"\"\"\n",
    "cost_q2 = calculate_cost(q2, job_config)\n",
    "\n",
    "costs = {'q1': cost_q1, 'q2': cost_q2}\n",
    "costs"
   ]
  },
  {
   "cell_type": "code",
   "execution_count": 5,
   "id": "261dce19-6a6d-4876-b1ae-a5ef9c186e2c",
   "metadata": {},
   "outputs": [
    {
     "data": {
      "text/plain": [
       "Dataset(DatasetReference('cs544-f23-398504', 'p8'))"
      ]
     },
     "execution_count": 5,
     "metadata": {},
     "output_type": "execute_result"
    }
   ],
   "source": [
    "ds = bigquery.Dataset(\"cs544-f23-398504.p8\")\n",
    "ds"
   ]
  },
  {
   "cell_type": "code",
   "execution_count": 6,
   "id": "9d710dbc-b68c-49d8-ae36-6bafa32dea8b",
   "metadata": {},
   "outputs": [
    {
     "data": {
      "text/plain": [
       "Dataset(DatasetReference('cs544-f23-398504', 'p8'))"
      ]
     },
     "execution_count": 6,
     "metadata": {},
     "output_type": "execute_result"
    }
   ],
   "source": [
    "bq.create_dataset(ds, exists_ok=True)"
   ]
  },
  {
   "cell_type": "code",
   "execution_count": 7,
   "id": "404d80a6-0d7c-4cfa-a235-3704c6f1b000",
   "metadata": {},
   "outputs": [
    {
     "data": {
      "text/plain": [
       "LoadJob<project=cs544-f23-398504, location=US, id=55cdbc2a-bad0-431c-b48d-4e40a93ba03f>"
      ]
     },
     "execution_count": 7,
     "metadata": {},
     "output_type": "execute_result"
    }
   ],
   "source": [
    "uri = \"gs://junhojunho/hdma-wi-2021.parquet\"\n",
    "\n",
    "table_id = \"p8.hdma\"\n",
    "\n",
    "job_config = bigquery.LoadJobConfig(source_format=bigquery.SourceFormat.PARQUET,write_disposition=\"WRITE_TRUNCATE\")\n",
    "load_job = bq.load_table_from_uri(uri, table_id, job_config=job_config)\n",
    "\n",
    "load_job.result()"
   ]
  },
  {
   "cell_type": "code",
   "execution_count": 8,
   "id": "4eccdcc5-b62b-498e-98bf-2714bc4270e5",
   "metadata": {},
   "outputs": [
    {
     "data": {
      "text/plain": [
       "['p8']"
      ]
     },
     "execution_count": 8,
     "metadata": {},
     "output_type": "execute_result"
    }
   ],
   "source": [
    "#q4\n",
    "datasets = [ds.dataset_id for ds in bq.list_datasets(\"cs544-f23-398504\")]\n",
    "datasets"
   ]
  },
  {
   "cell_type": "code",
   "execution_count": 9,
   "id": "1768dd81-5105-4283-b92b-32bc8bcddfcb",
   "metadata": {},
   "outputs": [
    {
     "data": {
      "text/plain": [
       "{'Milwaukee': 46570,\n",
       " 'Dane': 38557,\n",
       " 'Waukesha': 34159,\n",
       " 'Brown': 15615,\n",
       " 'Racine': 13007,\n",
       " 'Outagamie': 11523,\n",
       " 'Kenosha': 10744,\n",
       " 'Washington': 10726,\n",
       " 'Rock': 9834,\n",
       " 'Winnebago': 9310}"
      ]
     },
     "execution_count": 9,
     "metadata": {},
     "output_type": "execute_result"
    }
   ],
   "source": [
    "#q5\n",
    "query = \"\"\"\n",
    "SELECT c.county_name, COUNT(*) as loan_count\n",
    "FROM `p8.hdma` as h\n",
    "JOIN `bigquery-public-data.geo_us_boundaries.counties` as c\n",
    "ON h.county_code = c.geo_id\n",
    "GROUP BY c.county_name\n",
    "ORDER BY loan_count DESC\n",
    "LIMIT 10\n",
    "\"\"\"\n",
    "\n",
    "query_job = bq.query(query)\n",
    "\n",
    "# convert the result to dictionary\n",
    "result = query_job.to_dataframe()\n",
    "loan_counts = result.set_index('county_name')['loan_count'].to_dict()\n",
    "\n",
    "loan_counts"
   ]
  },
  {
   "cell_type": "code",
   "execution_count": 10,
   "id": "95bda388-2205-46cb-a644-d9cd537a8db0",
   "metadata": {},
   "outputs": [],
   "source": [
    "# google sheet 287"
   ]
  },
  {
   "cell_type": "code",
   "execution_count": 11,
   "id": "aee67e33-2443-44dd-a244-470d61529d7c",
   "metadata": {},
   "outputs": [],
   "source": [
    "url = \"https://docs.google.com/spreadsheets/d/11UeIBqQylAyNUBsIO54p6WiYJWHayQMfHDbUWq1jGco/\"\n",
    "\n",
    "external_config = bigquery.ExternalConfig(\"GOOGLE_SHEETS\")\n",
    "external_config.source_uris = [url]\n",
    "external_config.options.skip_leading_rows = 1\n",
    "external_config.autodetect = True\n",
    "\n",
    "table_id = \"cs544-f23-398504.p8.applications\"\n",
    "table = bigquery.Table(table_id)\n",
    "table.external_data_configuration = external_config\n",
    "\n",
    "table = bq.create_table(table, exists_ok=True)"
   ]
  },
  {
   "cell_type": "code",
   "execution_count": 12,
   "id": "9b997b6b-3962-44d7-9a99-daf7bb698e4a",
   "metadata": {},
   "outputs": [
    {
     "data": {
      "text/plain": [
       "9"
      ]
     },
     "execution_count": 12,
     "metadata": {},
     "output_type": "execute_result"
    }
   ],
   "source": [
    "#q6\n",
    "# chosen income\n",
    "chosen_income = 250000\n",
    "\n",
    "# BigQuery\n",
    "query = f\"\"\"\n",
    "SELECT COUNT(*) as application_count\n",
    "FROM `p8.applications`\n",
    "WHERE income = {chosen_income}\n",
    "\"\"\"\n",
    "\n",
    "query_job = bq.query(query)\n",
    "\n",
    "result = query_job.to_dataframe()\n",
    "application_count = result['application_count'][0]\n",
    "\n",
    "application_count"
   ]
  },
  {
   "cell_type": "code",
   "execution_count": 13,
   "id": "96fa6771-55a3-46de-808b-7f72df930cf8",
   "metadata": {},
   "outputs": [
    {
     "data": {
      "text/plain": [
       "{'Dane': 83,\n",
       " 'Door': 21,\n",
       " 'Brown': 7,\n",
       " 'Sheboygan': 7,\n",
       " 'Columbia': 5,\n",
       " 'Bayfield': 5,\n",
       " 'Milwaukee': 5,\n",
       " 'Oneida': 4,\n",
       " 'Walworth': 4,\n",
       " 'Winnebago': 3,\n",
       " 'Jefferson': 3,\n",
       " 'Marinette': 3,\n",
       " 'Sauk': 3,\n",
       " 'Kewaunee': 3,\n",
       " 'Ozaukee': 2,\n",
       " 'Ashland': 2,\n",
       " 'Outagamie': 2,\n",
       " 'Monroe': 2,\n",
       " 'Wood': 2,\n",
       " 'Barron': 2,\n",
       " 'Green Lake': 2,\n",
       " 'Price': 1,\n",
       " 'Fond du Lac': 1,\n",
       " 'Dodge': 1,\n",
       " 'Marathon': 1,\n",
       " 'Polk': 1,\n",
       " 'Adams': 1,\n",
       " 'St. Croix': 1,\n",
       " 'Vilas': 1,\n",
       " 'Chippewa': 1,\n",
       " 'Kenosha': 1,\n",
       " 'Iowa': 1,\n",
       " 'Eau Claire': 1,\n",
       " 'Douglas': 1,\n",
       " 'Manitowoc': 1,\n",
       " 'Crawford': 1}"
      ]
     },
     "execution_count": 13,
     "metadata": {},
     "output_type": "execute_result"
    }
   ],
   "source": [
    "#q7\n",
    "query = \"\"\"\n",
    "SELECT c.county_name, COUNT(*) as application_count\n",
    "FROM `p8.applications` as a\n",
    "JOIN `bigquery-public-data.geo_us_boundaries.counties` as c\n",
    "ON ST_CONTAINS(c.county_geom, ST_GEOGPOINT(a.longitude, a.latitude))\n",
    "WHERE c.state_fips_code = '55'\n",
    "GROUP BY c.county_name\n",
    "ORDER BY application_count DESC\n",
    "\"\"\"\n",
    "\n",
    "query_job = bq.query(query)\n",
    "\n",
    "result = query_job.to_dataframe()\n",
    "application_counts = result.set_index('county_name')['application_count'].to_dict()\n",
    "\n",
    "application_counts"
   ]
  },
  {
   "cell_type": "code",
   "execution_count": 14,
   "id": "55c4896f-f642-4a24-be83-cc472386e79d",
   "metadata": {},
   "outputs": [],
   "source": [
    "%load_ext google.cloud.bigquery"
   ]
  },
  {
   "cell_type": "code",
   "execution_count": 15,
   "id": "e9ddb628-92ea-4dac-8164-b98c248dd529",
   "metadata": {
    "scrolled": true
   },
   "outputs": [
    {
     "data": {
      "application/vnd.jupyter.widget-view+json": {
       "model_id": "ce14e4c10e72425a8b4e4b52b694d7c6",
       "version_major": 2,
       "version_minor": 0
      },
      "text/plain": [
       "Query is running:   0%|          |"
      ]
     },
     "metadata": {},
     "output_type": "display_data"
    },
    {
     "data": {
      "text/html": [
       "<div>\n",
       "<style scoped>\n",
       "    .dataframe tbody tr th:only-of-type {\n",
       "        vertical-align: middle;\n",
       "    }\n",
       "\n",
       "    .dataframe tbody tr th {\n",
       "        vertical-align: top;\n",
       "    }\n",
       "\n",
       "    .dataframe thead th {\n",
       "        text-align: right;\n",
       "    }\n",
       "</style>\n",
       "<table border=\"1\" class=\"dataframe\">\n",
       "  <thead>\n",
       "    <tr style=\"text-align: right;\">\n",
       "      <th></th>\n",
       "    </tr>\n",
       "  </thead>\n",
       "  <tbody>\n",
       "  </tbody>\n",
       "</table>\n",
       "</div>"
      ],
      "text/plain": [
       "Empty DataFrame\n",
       "Columns: []\n",
       "Index: []"
      ]
     },
     "execution_count": 15,
     "metadata": {},
     "output_type": "execute_result"
    }
   ],
   "source": [
    "%%bigquery\n",
    "CREATE OR REPLACE MODEL `cs544-f23-398504.p8.new_model`\n",
    "OPTIONS(model_type='LINEAR_REG', input_label_cols=['loan_amount']) AS\n",
    "SELECT\n",
    "  loan_amount,\n",
    "  income,\n",
    "  loan_term\n",
    "FROM\n",
    "  `cs544-f23-398504.p8.hdma`"
   ]
  },
  {
   "cell_type": "code",
   "execution_count": 16,
   "id": "4582805a-d764-415a-979d-2957235a3262",
   "metadata": {},
   "outputs": [
    {
     "data": {
      "text/plain": [
       "0.29377696427746547"
      ]
     },
     "execution_count": 16,
     "metadata": {},
     "output_type": "execute_result"
    }
   ],
   "source": [
    "#q8\n",
    "import time\n",
    "model_name = 'new_model' \n",
    "while True:\n",
    "    models = bq.list_models('cs544-f23-398504.p8')\n",
    "    if model_name in [model.model_id for model in models]:\n",
    "        break\n",
    "    time.sleep(5)\n",
    "\n",
    "query = f\"\"\"\n",
    "SELECT r2_score\n",
    "FROM ML.EVALUATE(MODEL `p8.{model_name}`)\n",
    "\"\"\"\n",
    "\n",
    "query_job = bq.query(query)\n",
    "\n",
    "r2_score = query_job.to_dataframe()['r2_score'][0]\n",
    "r2_score"
   ]
  },
  {
   "cell_type": "code",
   "execution_count": 17,
   "id": "88033dc9-ad78-4f1e-8e6e-6aee56135cf5",
   "metadata": {},
   "outputs": [
    {
     "data": {
      "text/plain": [
       "0.8046310253989837"
      ]
     },
     "execution_count": 17,
     "metadata": {},
     "output_type": "execute_result"
    }
   ],
   "source": [
    "#q9\n",
    "query = f\"\"\"\n",
    "SELECT processed_input, weight\n",
    "FROM ML.WEIGHTS(MODEL `p8.{model_name}`)\n",
    "WHERE processed_input = 'income'\n",
    "\"\"\"\n",
    "\n",
    "query_job = bq.query(query)\n",
    "df = query_job.to_dataframe()\n",
    "\n",
    "df[\"weight\"][0]"
   ]
  },
  {
   "cell_type": "code",
   "execution_count": 18,
   "id": "c51d6ab8-2a6a-4f4d-8f7d-937fffa1b3ac",
   "metadata": {},
   "outputs": [
    {
     "data": {
      "text/plain": [
       "0.6013289036544851"
      ]
     },
     "execution_count": 18,
     "metadata": {},
     "output_type": "execute_result"
    }
   ],
   "source": [
    "#q10\n",
    "query = \"\"\"\n",
    "SELECT income, loan_amount\n",
    "FROM `cs544-f23-398504.p8.applications`\n",
    "\"\"\"\n",
    "query_job = bq.query(query)\n",
    "df = query_job.to_dataframe()\n",
    "\n",
    "# Add a column for loan_term\n",
    "df['loan_term'] = 360\n",
    "\n",
    "query = f\"\"\"\n",
    "SELECT predicted_loan_amount\n",
    "FROM ML.PREDICT(MODEL `p8.{model_name}`, \n",
    "                (SELECT income, 360 AS loan_term FROM `cs544-f23-398504.p8.applications`))\n",
    "\"\"\"\n",
    "query_job = bq.query(query)\n",
    "predicted = query_job.to_dataframe()['predicted_loan_amount']\n",
    "\n",
    "ratio = (df['loan_amount'] > predicted).mean()\n",
    "\n",
    "ratio"
   ]
  }
 ],
 "metadata": {
  "kernelspec": {
   "display_name": "Python 3 (ipykernel)",
   "language": "python",
   "name": "python3"
  },
  "language_info": {
   "codemirror_mode": {
    "name": "ipython",
    "version": 3
   },
   "file_extension": ".py",
   "mimetype": "text/x-python",
   "name": "python",
   "nbconvert_exporter": "python",
   "pygments_lexer": "ipython3",
   "version": "3.10.12"
  }
 },
 "nbformat": 4,
 "nbformat_minor": 5
}
