{
 "cells": [
  {
   "cell_type": "code",
   "execution_count": 1,
   "id": "9500f156-546d-4b45-934f-8a5ea93146d4",
   "metadata": {},
   "outputs": [],
   "source": [
    "from google.cloud import bigquery\n",
    "bq = bigquery.Client()"
   ]
  },
  {
   "cell_type": "code",
   "execution_count": 2,
   "id": "2d016279-28b8-4ba2-b62e-3d230e65c65a",
   "metadata": {},
   "outputs": [
    {
     "name": "stdout",
     "output_type": "stream",
     "text": [
      "55025\n"
     ]
    }
   ],
   "source": [
    "#q1\n",
    "q = bq.query(\n",
    "\"\"\"\n",
    "SELECT geo_id \n",
    "FROM bigquery-public-data.geo_us_boundaries.counties\n",
    "WHERE county_name = 'Dane'\n",
    "\"\"\")\n",
    "result = q.to_dataframe()\n",
    "print(result['geo_id'][0])"
   ]
  },
  {
   "cell_type": "code",
   "execution_count": 3,
   "id": "91e899bf-6f47-480d-8df5-4ee6e15f2372",
   "metadata": {},
   "outputs": [
    {
     "data": {
      "text/plain": [
       "{'48': 254, '13': 159, '51': 133, '21': 120, '29': 115}"
      ]
     },
     "execution_count": 3,
     "metadata": {},
     "output_type": "execute_result"
    }
   ],
   "source": [
    "#q2\n",
    "q = bq.query(\n",
    "\"\"\"\n",
    "SELECT state_fips_code, COUNT(*) as county_count\n",
    "FROM bigquery-public-data.geo_us_boundaries.counties\n",
    "GROUP BY state_fips_code\n",
    "ORDER BY county_count DESC\n",
    "LIMIT 5\n",
    "\"\"\")\n",
    "result = q.to_dataframe()\n",
    "result.set_index('state_fips_code')['county_count'].to_dict()"
   ]
  },
  {
   "cell_type": "code",
   "execution_count": null,
   "id": "46642044-bb88-405e-8b2b-51951ffedf25",
   "metadata": {},
   "outputs": [],
   "source": [
    "#q3\n",
    "def calculate_cost(query, job_config):\n",
    "    query_job = bq.query(query, job_config=job_config)\n",
    "    bytes_billed = query_job.total_bytes_billed\n",
    "    cost = (bytes_billed / (1024 ** 4)) * 5  # 비용 계산 (단위: 달러)\n",
    "    return cost\n",
    "\n",
    "# setting for not using cache\n",
    "job_config = bigquery.QueryJobConfig(use_query_cache=False)\n",
    "\n",
    "# first query\n",
    "q1 = \"\"\"\n",
    "SELECT geo_id \n",
    "FROM bigquery-public-data.geo_us_boundaries.counties\n",
    "WHERE county_name = 'Dane'\n",
    "\"\"\"\n",
    "cost_q1 = calculate_cost(q1, job_config)\n",
    "\n",
    "# second query\n",
    "q2 = \"\"\"\n",
    "SELECT state_fips_code, COUNT(*) as county_count\n",
    "FROM bigquery-public-data.geo_us_boundaries.counties\n",
    "GROUP BY state_fips_code\n",
    "ORDER BY county_count DESC\n",
    "LIMIT 5\n",
    "\"\"\"\n",
    "cost_q2 = calculate_cost(q2, job_config)\n",
    "\n",
    "costs = {'q1': cost_q1, 'q2': cost_q2}\n",
    "print(costs)"
   ]
  }
 ],
 "metadata": {
  "kernelspec": {
   "display_name": "Python 3 (ipykernel)",
   "language": "python",
   "name": "python3"
  },
  "language_info": {
   "codemirror_mode": {
    "name": "ipython",
    "version": 3
   },
   "file_extension": ".py",
   "mimetype": "text/x-python",
   "name": "python",
   "nbconvert_exporter": "python",
   "pygments_lexer": "ipython3",
   "version": "3.10.12"
  }
 },
 "nbformat": 4,
 "nbformat_minor": 5
}
